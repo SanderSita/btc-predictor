{
 "cells": [
  {
   "cell_type": "code",
   "execution_count": 2,
   "metadata": {},
   "outputs": [
    {
     "name": "stderr",
     "output_type": "stream",
     "text": [
      "c:\\Projects\\bitcoin-predictor\\venv\\Lib\\site-packages\\tqdm\\auto.py:21: TqdmWarning: IProgress not found. Please update jupyter and ipywidgets. See https://ipywidgets.readthedocs.io/en/stable/user_install.html\n",
      "  from .autonotebook import tqdm as notebook_tqdm\n"
     ]
    }
   ],
   "source": [
    "import pandas as pd\n",
    "import numpy as np\n",
    "from sklearn.preprocessing import MinMaxScaler\n",
    "from tensorflow.keras.models import Sequential\n",
    "from tensorflow.keras.layers import LSTM, Dense, Dropout\n",
    "from sklearn.model_selection import train_test_split\n",
    "import matplotlib.pyplot as plt\n",
    "import seaborn as sns\n",
    "from sklearn.metrics import mean_absolute_error, mean_squared_error\n",
    "import numpy as np\n",
    "import kagglehub\n",
    "from pathlib import Path\n",
    "import joblib\n",
    "from pathlib import Path"
   ]
  },
  {
   "cell_type": "code",
   "execution_count": 3,
   "metadata": {},
   "outputs": [],
   "source": [
    "# Download latest version\n",
    "path = Path(kagglehub.dataset_download(\"sandersekreve/bitcoin-dataset-1h\"))"
   ]
  },
  {
   "cell_type": "code",
   "execution_count": 4,
   "metadata": {},
   "outputs": [],
   "source": [
    "csv_path = path / 'btc_1h_data_2018_to_2025.csv'\n",
    "df = pd.read_csv(csv_path)"
   ]
  },
  {
   "cell_type": "code",
   "execution_count": 5,
   "metadata": {},
   "outputs": [
    {
     "data": {
      "text/html": [
       "<div>\n",
       "<style scoped>\n",
       "    .dataframe tbody tr th:only-of-type {\n",
       "        vertical-align: middle;\n",
       "    }\n",
       "\n",
       "    .dataframe tbody tr th {\n",
       "        vertical-align: top;\n",
       "    }\n",
       "\n",
       "    .dataframe thead th {\n",
       "        text-align: right;\n",
       "    }\n",
       "</style>\n",
       "<table border=\"1\" class=\"dataframe\">\n",
       "  <thead>\n",
       "    <tr style=\"text-align: right;\">\n",
       "      <th></th>\n",
       "      <th>Open time</th>\n",
       "      <th>Open</th>\n",
       "      <th>High</th>\n",
       "      <th>Low</th>\n",
       "      <th>Close</th>\n",
       "      <th>Volume</th>\n",
       "      <th>Close time</th>\n",
       "      <th>Quote asset volume</th>\n",
       "      <th>Number of trades</th>\n",
       "      <th>Taker buy base asset volume</th>\n",
       "      <th>Taker buy quote asset volume</th>\n",
       "      <th>Ignore</th>\n",
       "    </tr>\n",
       "  </thead>\n",
       "  <tbody>\n",
       "    <tr>\n",
       "      <th>0</th>\n",
       "      <td>2018-01-01 00:00:00</td>\n",
       "      <td>13715.65</td>\n",
       "      <td>13715.65</td>\n",
       "      <td>13400.01</td>\n",
       "      <td>13529.01</td>\n",
       "      <td>443.356199</td>\n",
       "      <td>2018-01-01 00:59:59.999</td>\n",
       "      <td>5.993910e+06</td>\n",
       "      <td>5228</td>\n",
       "      <td>228.521921</td>\n",
       "      <td>3.090541e+06</td>\n",
       "      <td>0</td>\n",
       "    </tr>\n",
       "    <tr>\n",
       "      <th>1</th>\n",
       "      <td>2018-01-01 01:00:00</td>\n",
       "      <td>13528.99</td>\n",
       "      <td>13595.89</td>\n",
       "      <td>13155.38</td>\n",
       "      <td>13203.06</td>\n",
       "      <td>383.697006</td>\n",
       "      <td>2018-01-01 01:59:59.999</td>\n",
       "      <td>5.154522e+06</td>\n",
       "      <td>4534</td>\n",
       "      <td>180.840403</td>\n",
       "      <td>2.430449e+06</td>\n",
       "      <td>0</td>\n",
       "    </tr>\n",
       "    <tr>\n",
       "      <th>2</th>\n",
       "      <td>2018-01-01 02:00:00</td>\n",
       "      <td>13203.00</td>\n",
       "      <td>13418.43</td>\n",
       "      <td>13200.00</td>\n",
       "      <td>13330.18</td>\n",
       "      <td>429.064572</td>\n",
       "      <td>2018-01-01 02:59:59.999</td>\n",
       "      <td>5.710192e+06</td>\n",
       "      <td>4887</td>\n",
       "      <td>192.237935</td>\n",
       "      <td>2.558505e+06</td>\n",
       "      <td>0</td>\n",
       "    </tr>\n",
       "    <tr>\n",
       "      <th>3</th>\n",
       "      <td>2018-01-01 03:00:00</td>\n",
       "      <td>13330.26</td>\n",
       "      <td>13611.27</td>\n",
       "      <td>13290.00</td>\n",
       "      <td>13410.03</td>\n",
       "      <td>420.087030</td>\n",
       "      <td>2018-01-01 03:59:59.999</td>\n",
       "      <td>5.657448e+06</td>\n",
       "      <td>4789</td>\n",
       "      <td>137.918407</td>\n",
       "      <td>1.858041e+06</td>\n",
       "      <td>0</td>\n",
       "    </tr>\n",
       "    <tr>\n",
       "      <th>4</th>\n",
       "      <td>2018-01-01 04:00:00</td>\n",
       "      <td>13434.98</td>\n",
       "      <td>13623.29</td>\n",
       "      <td>13322.15</td>\n",
       "      <td>13601.01</td>\n",
       "      <td>340.807329</td>\n",
       "      <td>2018-01-01 04:59:59.999</td>\n",
       "      <td>4.588047e+06</td>\n",
       "      <td>4563</td>\n",
       "      <td>172.957635</td>\n",
       "      <td>2.328058e+06</td>\n",
       "      <td>0</td>\n",
       "    </tr>\n",
       "  </tbody>\n",
       "</table>\n",
       "</div>"
      ],
      "text/plain": [
       "             Open time      Open      High       Low     Close      Volume  \\\n",
       "0  2018-01-01 00:00:00  13715.65  13715.65  13400.01  13529.01  443.356199   \n",
       "1  2018-01-01 01:00:00  13528.99  13595.89  13155.38  13203.06  383.697006   \n",
       "2  2018-01-01 02:00:00  13203.00  13418.43  13200.00  13330.18  429.064572   \n",
       "3  2018-01-01 03:00:00  13330.26  13611.27  13290.00  13410.03  420.087030   \n",
       "4  2018-01-01 04:00:00  13434.98  13623.29  13322.15  13601.01  340.807329   \n",
       "\n",
       "                Close time  Quote asset volume  Number of trades  \\\n",
       "0  2018-01-01 00:59:59.999        5.993910e+06              5228   \n",
       "1  2018-01-01 01:59:59.999        5.154522e+06              4534   \n",
       "2  2018-01-01 02:59:59.999        5.710192e+06              4887   \n",
       "3  2018-01-01 03:59:59.999        5.657448e+06              4789   \n",
       "4  2018-01-01 04:59:59.999        4.588047e+06              4563   \n",
       "\n",
       "   Taker buy base asset volume  Taker buy quote asset volume  Ignore  \n",
       "0                   228.521921                  3.090541e+06       0  \n",
       "1                   180.840403                  2.430449e+06       0  \n",
       "2                   192.237935                  2.558505e+06       0  \n",
       "3                   137.918407                  1.858041e+06       0  \n",
       "4                   172.957635                  2.328058e+06       0  "
      ]
     },
     "execution_count": 5,
     "metadata": {},
     "output_type": "execute_result"
    }
   ],
   "source": [
    "df.head()"
   ]
  },
  {
   "cell_type": "code",
   "execution_count": 6,
   "metadata": {},
   "outputs": [],
   "source": [
    "# Add technical indicators\n",
    "\n",
    "# Simple Moving Averages\n",
    "df[\"SMA_7\"] = df[\"Close\"].rolling(window=7).mean()\n",
    "df[\"SMA_21\"] = df[\"Close\"].rolling(window=21).mean()\n",
    "\n",
    "# RSI (Relative Strength Index)\n",
    "delta = df[\"Close\"].diff()\n",
    "gain = (delta.where(delta > 0, 0)).rolling(14).mean()\n",
    "loss = (-delta.where(delta < 0, 0)).rolling(14).mean()\n",
    "rs = gain / loss\n",
    "df[\"RSI_14\"] = 100 - (100 / (1 + rs))\n",
    "\n",
    "# MACD (Moving Average Convergence Divergence)\n",
    "exp1 = df[\"Close\"].ewm(span=12, adjust=False).mean()\n",
    "exp2 = df[\"Close\"].ewm(span=26, adjust=False).mean()\n",
    "df[\"MACD\"] = exp1 - exp2\n",
    "df[\"Signal_line\"] = df[\"MACD\"].ewm(span=9, adjust=False).mean()\n",
    "\n",
    "df.dropna(inplace=True)"
   ]
  },
  {
   "cell_type": "code",
   "execution_count": 7,
   "metadata": {},
   "outputs": [
    {
     "name": "stdout",
     "output_type": "stream",
     "text": [
      "                 High     Close    Volume  Signal_line\n",
      "High         1.000000  0.999971 -0.120442     0.060202\n",
      "Close        0.999971  1.000000 -0.122295     0.060914\n",
      "Volume      -0.120442 -0.122295  1.000000    -0.019840\n",
      "Signal_line  0.060202  0.060914 -0.019840     1.000000\n"
     ]
    }
   ],
   "source": [
    "# === Feature Selection ===\n",
    "features = [\n",
    "    # 'Open', 'High', 'Low', 'Close', 'Volume',\n",
    "    # MACD, Signal_line, SMA_7, RSI_14\n",
    "    # 'High', 'Low', 'Close', 'SMA_21'\n",
    "    'High', 'Close', 'Volume', 'Signal_line'\n",
    "]\n",
    "target_col = \"High\"\n",
    "target_idx = features.index(target_col)\n",
    "\n",
    "data = df[features]\n",
    "\n",
    "\n",
    "corr_matrix = df[features].corr()\n",
    "print(corr_matrix)\n"
   ]
  },
  {
   "cell_type": "code",
   "execution_count": 8,
   "metadata": {},
   "outputs": [],
   "source": [
    "# === Train/Test Split ===\n",
    "sequence_length = 80\n",
    "split_idx = int(len(data) * 0.8)\n",
    "\n",
    "train_data = data.iloc[:split_idx]\n",
    "test_data = data.iloc[split_idx:]"
   ]
  },
  {
   "cell_type": "code",
   "execution_count": 9,
   "metadata": {},
   "outputs": [],
   "source": [
    "# === Scaling ===\n",
    "scaler = MinMaxScaler()\n",
    "train_scaled = scaler.fit_transform(train_data)\n",
    "test_scaled = scaler.transform(test_data)"
   ]
  },
  {
   "cell_type": "code",
   "execution_count": 10,
   "metadata": {},
   "outputs": [],
   "source": [
    "# === Build Sequences ===\n",
    "def build_sequences(scaled_data):\n",
    "    X, y = [], []\n",
    "    for i in range(sequence_length, len(scaled_data)):\n",
    "        X.append(scaled_data[i-sequence_length:i])\n",
    "        y.append(scaled_data[i, target_idx])\n",
    "    return np.array(X), np.array(y)\n",
    "\n",
    "X_train, y_train = build_sequences(train_scaled)\n",
    "X_test, y_test = build_sequences(test_scaled)"
   ]
  },
  {
   "cell_type": "code",
   "execution_count": 11,
   "metadata": {},
   "outputs": [
    {
     "name": "stdout",
     "output_type": "stream",
     "text": [
      "Epoch 1/25\n"
     ]
    },
    {
     "name": "stderr",
     "output_type": "stream",
     "text": [
      "c:\\Projects\\bitcoin-predictor\\venv\\Lib\\site-packages\\keras\\src\\layers\\rnn\\rnn.py:200: UserWarning: Do not pass an `input_shape`/`input_dim` argument to a layer. When using Sequential models, prefer using an `Input(shape)` object as the first layer in the model instead.\n",
      "  super().__init__(**kwargs)\n"
     ]
    },
    {
     "name": "stdout",
     "output_type": "stream",
     "text": [
      "\u001b[1m1437/1437\u001b[0m \u001b[32m━━━━━━━━━━━━━━━━━━━━\u001b[0m\u001b[37m\u001b[0m \u001b[1m63s\u001b[0m 42ms/step - loss: 0.0028 - val_loss: 2.8313e-04\n",
      "Epoch 2/25\n",
      "\u001b[1m1437/1437\u001b[0m \u001b[32m━━━━━━━━━━━━━━━━━━━━\u001b[0m\u001b[37m\u001b[0m \u001b[1m62s\u001b[0m 43ms/step - loss: 5.7089e-04 - val_loss: 1.1509e-04\n",
      "Epoch 3/25\n",
      "\u001b[1m1437/1437\u001b[0m \u001b[32m━━━━━━━━━━━━━━━━━━━━\u001b[0m\u001b[37m\u001b[0m \u001b[1m65s\u001b[0m 45ms/step - loss: 4.4640e-04 - val_loss: 8.3681e-05\n",
      "Epoch 4/25\n",
      "\u001b[1m1437/1437\u001b[0m \u001b[32m━━━━━━━━━━━━━━━━━━━━\u001b[0m\u001b[37m\u001b[0m \u001b[1m67s\u001b[0m 47ms/step - loss: 4.2260e-04 - val_loss: 1.5999e-05\n",
      "Epoch 5/25\n",
      "\u001b[1m1437/1437\u001b[0m \u001b[32m━━━━━━━━━━━━━━━━━━━━\u001b[0m\u001b[37m\u001b[0m \u001b[1m64s\u001b[0m 44ms/step - loss: 4.1578e-04 - val_loss: 6.2717e-05\n",
      "Epoch 6/25\n",
      "\u001b[1m1437/1437\u001b[0m \u001b[32m━━━━━━━━━━━━━━━━━━━━\u001b[0m\u001b[37m\u001b[0m \u001b[1m61s\u001b[0m 42ms/step - loss: 3.9669e-04 - val_loss: 8.3397e-06\n",
      "Epoch 7/25\n",
      "\u001b[1m1437/1437\u001b[0m \u001b[32m━━━━━━━━━━━━━━━━━━━━\u001b[0m\u001b[37m\u001b[0m \u001b[1m64s\u001b[0m 45ms/step - loss: 3.9913e-04 - val_loss: 1.7956e-05\n",
      "Epoch 8/25\n",
      "\u001b[1m1437/1437\u001b[0m \u001b[32m━━━━━━━━━━━━━━━━━━━━\u001b[0m\u001b[37m\u001b[0m \u001b[1m65s\u001b[0m 45ms/step - loss: 3.8240e-04 - val_loss: 1.8090e-05\n",
      "Epoch 9/25\n",
      "\u001b[1m1437/1437\u001b[0m \u001b[32m━━━━━━━━━━━━━━━━━━━━\u001b[0m\u001b[37m\u001b[0m \u001b[1m64s\u001b[0m 45ms/step - loss: 3.8115e-04 - val_loss: 1.2189e-05\n",
      "Epoch 10/25\n",
      "\u001b[1m1437/1437\u001b[0m \u001b[32m━━━━━━━━━━━━━━━━━━━━\u001b[0m\u001b[37m\u001b[0m \u001b[1m63s\u001b[0m 44ms/step - loss: 3.6195e-04 - val_loss: 5.5473e-05\n",
      "Epoch 11/25\n",
      "\u001b[1m1437/1437\u001b[0m \u001b[32m━━━━━━━━━━━━━━━━━━━━\u001b[0m\u001b[37m\u001b[0m \u001b[1m64s\u001b[0m 44ms/step - loss: 3.7694e-04 - val_loss: 8.9836e-05\n",
      "Epoch 12/25\n",
      "\u001b[1m1437/1437\u001b[0m \u001b[32m━━━━━━━━━━━━━━━━━━━━\u001b[0m\u001b[37m\u001b[0m \u001b[1m63s\u001b[0m 44ms/step - loss: 3.5921e-04 - val_loss: 1.7894e-05\n",
      "Epoch 13/25\n",
      "\u001b[1m1437/1437\u001b[0m \u001b[32m━━━━━━━━━━━━━━━━━━━━\u001b[0m\u001b[37m\u001b[0m \u001b[1m61s\u001b[0m 43ms/step - loss: 3.6398e-04 - val_loss: 1.6065e-05\n",
      "Epoch 14/25\n",
      "\u001b[1m1437/1437\u001b[0m \u001b[32m━━━━━━━━━━━━━━━━━━━━\u001b[0m\u001b[37m\u001b[0m \u001b[1m64s\u001b[0m 45ms/step - loss: 3.5742e-04 - val_loss: 3.9291e-05\n",
      "Epoch 15/25\n",
      "\u001b[1m1437/1437\u001b[0m \u001b[32m━━━━━━━━━━━━━━━━━━━━\u001b[0m\u001b[37m\u001b[0m \u001b[1m64s\u001b[0m 44ms/step - loss: 3.4492e-04 - val_loss: 1.9664e-05\n",
      "Epoch 16/25\n",
      "\u001b[1m1437/1437\u001b[0m \u001b[32m━━━━━━━━━━━━━━━━━━━━\u001b[0m\u001b[37m\u001b[0m \u001b[1m62s\u001b[0m 43ms/step - loss: 3.4725e-04 - val_loss: 2.3564e-05\n",
      "Epoch 17/25\n",
      "\u001b[1m1437/1437\u001b[0m \u001b[32m━━━━━━━━━━━━━━━━━━━━\u001b[0m\u001b[37m\u001b[0m \u001b[1m64s\u001b[0m 45ms/step - loss: 3.4211e-04 - val_loss: 2.4181e-05\n",
      "Epoch 18/25\n",
      "\u001b[1m1437/1437\u001b[0m \u001b[32m━━━━━━━━━━━━━━━━━━━━\u001b[0m\u001b[37m\u001b[0m \u001b[1m67s\u001b[0m 47ms/step - loss: 3.3937e-04 - val_loss: 6.4604e-06\n",
      "Epoch 19/25\n",
      "\u001b[1m1437/1437\u001b[0m \u001b[32m━━━━━━━━━━━━━━━━━━━━\u001b[0m\u001b[37m\u001b[0m \u001b[1m65s\u001b[0m 45ms/step - loss: 3.4367e-04 - val_loss: 5.7407e-06\n",
      "Epoch 20/25\n",
      "\u001b[1m1437/1437\u001b[0m \u001b[32m━━━━━━━━━━━━━━━━━━━━\u001b[0m\u001b[37m\u001b[0m \u001b[1m66s\u001b[0m 46ms/step - loss: 3.3042e-04 - val_loss: 8.4087e-06\n",
      "Epoch 21/25\n",
      "\u001b[1m1437/1437\u001b[0m \u001b[32m━━━━━━━━━━━━━━━━━━━━\u001b[0m\u001b[37m\u001b[0m \u001b[1m70s\u001b[0m 49ms/step - loss: 3.3165e-04 - val_loss: 2.4643e-05\n",
      "Epoch 22/25\n",
      "\u001b[1m1437/1437\u001b[0m \u001b[32m━━━━━━━━━━━━━━━━━━━━\u001b[0m\u001b[37m\u001b[0m \u001b[1m68s\u001b[0m 47ms/step - loss: 3.3873e-04 - val_loss: 5.1327e-06\n",
      "Epoch 23/25\n",
      "\u001b[1m1437/1437\u001b[0m \u001b[32m━━━━━━━━━━━━━━━━━━━━\u001b[0m\u001b[37m\u001b[0m \u001b[1m65s\u001b[0m 45ms/step - loss: 3.3879e-04 - val_loss: 5.1412e-06\n",
      "Epoch 24/25\n",
      "\u001b[1m1437/1437\u001b[0m \u001b[32m━━━━━━━━━━━━━━━━━━━━\u001b[0m\u001b[37m\u001b[0m \u001b[1m66s\u001b[0m 46ms/step - loss: 3.3424e-04 - val_loss: 3.9504e-05\n",
      "Epoch 25/25\n",
      "\u001b[1m1437/1437\u001b[0m \u001b[32m━━━━━━━━━━━━━━━━━━━━\u001b[0m\u001b[37m\u001b[0m \u001b[1m68s\u001b[0m 47ms/step - loss: 3.2917e-04 - val_loss: 1.6000e-05\n"
     ]
    }
   ],
   "source": [
    "# === Model Definition ===\n",
    "model = Sequential([\n",
    "    LSTM(64, return_sequences=True, input_shape=(X_train.shape[1], X_train.shape[2])),\n",
    "    Dropout(0.2),\n",
    "    LSTM(64),\n",
    "    Dropout(0.2),\n",
    "    Dense(1)\n",
    "])\n",
    "\n",
    "model.compile(optimizer=\"adam\", loss=\"mean_squared_error\")\n",
    "history = model.fit(X_train, y_train, epochs=25, batch_size=32, validation_split=0.1)"
   ]
  },
  {
   "cell_type": "code",
   "execution_count": 12,
   "metadata": {},
   "outputs": [
    {
     "name": "stdout",
     "output_type": "stream",
     "text": [
      "\u001b[1m398/398\u001b[0m \u001b[32m━━━━━━━━━━━━━━━━━━━━\u001b[0m\u001b[37m\u001b[0m \u001b[1m7s\u001b[0m 18ms/step\n"
     ]
    }
   ],
   "source": [
    "# === Prediction ===\n",
    "predicted_scaled = model.predict(X_test)"
   ]
  },
  {
   "cell_type": "code",
   "execution_count": 13,
   "metadata": {},
   "outputs": [],
   "source": [
    "# === Invert Scaling for Target ===\n",
    "high_mean = scaler.data_min_[target_idx]\n",
    "high_scale = scaler.data_max_[target_idx] - scaler.data_min_[target_idx]\n",
    "\n",
    "predicted_high = predicted_scaled * high_scale + high_mean\n",
    "actual_high = y_test * high_scale + high_mean"
   ]
  },
  {
   "cell_type": "code",
   "execution_count": 14,
   "metadata": {},
   "outputs": [],
   "source": [
    "# save model\n",
    "model.save(\"bitcoin_lstm_model8.keras\")"
   ]
  },
  {
   "cell_type": "code",
   "execution_count": null,
   "metadata": {},
   "outputs": [
    {
     "name": "stdout",
     "output_type": "stream",
     "text": [
      "📏 MAE: $4680.47\n",
      "📏 RMSE: $7367.79\n",
      "📉 MAPE: 29.29%\n"
     ]
    },
    {
     "data": {
      "text/plain": [
       "['1h_scaler4680.47.pkl']"
      ]
     },
     "execution_count": 16,
     "metadata": {},
     "output_type": "execute_result"
    }
   ],
   "source": [
    "\n",
    "# === Evaluation ===\n",
    "mae = mean_absolute_error(actual_high, predicted_high)\n",
    "rmse = np.sqrt(mean_squared_error(actual_high, predicted_high))\n",
    "\n",
    "def mean_absolute_percentage_error(y_true, y_pred):\n",
    "    y_true, y_pred = np.array(y_true), np.array(y_pred)\n",
    "    epsilon = 1e-10  # to avoid division by zero\n",
    "    return np.mean(np.abs((y_true - y_pred) / (y_true + epsilon))) * 100\n",
    "\n",
    "mape = mean_absolute_percentage_error(actual_high, predicted_high)\n",
    "\n",
    "print(f\"📏 MAE: ${mae:.2f}\")\n",
    "print(f\"📏 RMSE: ${rmse:.2f}\")\n",
    "print(f\"📉 MAPE: {mape:.2f}%\")\n",
    "\n",
    "# save model\n",
    "model.save(f\"bitcoin_1h_lstm_model_{mae:.2f}.keras\")\n",
    "\n",
    "# save scaler\n",
    "joblib.dump(scaler, f\"1h_scaler_{mae:.2f}.pkl\")"
   ]
  },
  {
   "cell_type": "code",
   "execution_count": null,
   "metadata": {},
   "outputs": [],
   "source": [
    "# === (Optional) Plotting ===\n",
    "plt.figure(figsize=(12, 6))\n",
    "plt.plot(actual_high, label=\"Actual High\", color=\"blue\")\n",
    "plt.plot(predicted_high, label=\"Predicted High\", color=\"orange\")\n",
    "plt.title(\"Bitcoin High Price Prediction\")\n",
    "plt.xlabel(\"Days\")\n",
    "plt.ylabel(\"Price (USD)\")\n",
    "plt.legend()\n",
    "plt.show()"
   ]
  },
  {
   "cell_type": "code",
   "execution_count": null,
   "metadata": {},
   "outputs": [],
   "source": [
    "plt.plot(history.history['loss'], label='Train loss')\n",
    "plt.plot(history.history['val_loss'], label='Val loss')\n",
    "plt.legend()\n",
    "plt.title(\"Training vs Validation Loss\")\n",
    "plt.show()\n"
   ]
  },
  {
   "cell_type": "code",
   "execution_count": null,
   "metadata": {},
   "outputs": [],
   "source": [
    "plt.figure(figsize=(14,6))\n",
    "plt.plot(actual_high, color='black', label='Actual High Price')\n",
    "plt.plot(predicted_high, color='green', label='Predicted High Price')\n",
    "plt.title('Bitcoin High Price Prediction')\n",
    "plt.xlabel('Days')\n",
    "plt.ylabel('Price')\n",
    "plt.legend()\n",
    "plt.show()\n"
   ]
  },
  {
   "cell_type": "code",
   "execution_count": null,
   "metadata": {},
   "outputs": [],
   "source": [
    "# import itertools\n",
    "# from sklearn.model_selection import train_test_split\n",
    "# from sklearn.preprocessing import MinMaxScaler\n",
    "# from sklearn.metrics import mean_absolute_error\n",
    "# from tensorflow.keras.models import Sequential\n",
    "# from tensorflow.keras.layers import LSTM, Dropout, Dense\n",
    "# import numpy as np\n",
    "# import pandas as pd\n",
    "# from tqdm import tqdm\n",
    "\n",
    "# # Full feature set\n",
    "# all_features = [\n",
    "#     'Open', 'High', 'Low', 'Close', 'Volume',\n",
    "#     'MACD', 'Signal_line', 'SMA_7', 'RSI_14',\n",
    "#     'SMA_21'\n",
    "#     # 'Open', 'High', 'Low', 'Volume', 'SMA_21'\n",
    "# ]\n",
    "\n",
    "# sequence_length = 30\n",
    "# best_mae = float('inf')\n",
    "# best_features = []\n",
    "# results = []\n",
    "\n",
    "# # Brute-force loop\n",
    "# for subset_size in range(4, 9):  # Try 4 to 8 feature combinations\n",
    "#     for subset in tqdm(list(itertools.combinations(all_features, subset_size))):\n",
    "#         try:\n",
    "#             data = df[list(subset)].copy()\n",
    "#             target_col = \"High\"\n",
    "#             if target_col not in subset:\n",
    "#                 continue\n",
    "\n",
    "#             split_idx = int(len(data) * 0.8)\n",
    "#             train_data = data.iloc[:split_idx]\n",
    "#             test_data = data.iloc[split_idx:]\n",
    "\n",
    "#             scaler = MinMaxScaler()\n",
    "#             train_scaled = scaler.fit_transform(train_data)\n",
    "#             test_scaled = scaler.transform(test_data)\n",
    "#             target_idx = list(subset).index(target_col)\n",
    "\n",
    "#             def build_seq(scaled):\n",
    "#                 X, y = [], []\n",
    "#                 for i in range(sequence_length, len(scaled)):\n",
    "#                     X.append(scaled[i-sequence_length:i])\n",
    "#                     y.append(scaled[i, target_idx])\n",
    "#                 return np.array(X), np.array(y)\n",
    "\n",
    "#             X_train, y_train = build_seq(train_scaled)\n",
    "#             X_test, y_test = build_seq(test_scaled)\n",
    "\n",
    "#             # Quick LSTM\n",
    "#             model = Sequential([\n",
    "#                 LSTM(32, return_sequences=False, input_shape=(X_train.shape[1], X_train.shape[2])),\n",
    "#                 Dropout(0.2),\n",
    "#                 Dense(1)\n",
    "#             ])\n",
    "#             model.compile(optimizer=\"adam\", loss=\"mae\")\n",
    "#             model.fit(X_train, y_train, epochs=5, batch_size=32, verbose=0)\n",
    "\n",
    "#             preds = model.predict(X_test)\n",
    "#             high_mean = scaler.data_min_[target_idx]\n",
    "#             high_range = scaler.data_max_[target_idx] - scaler.data_min_[target_idx]\n",
    "#             preds = preds * high_range + high_mean\n",
    "#             y_true = y_test * high_range + high_mean\n",
    "\n",
    "#             mae = mean_absolute_error(y_true, preds)\n",
    "#             results.append((subset, mae))\n",
    "\n",
    "#             if mae < best_mae:\n",
    "#                 best_mae = mae\n",
    "#                 best_features = subset\n",
    "#                 print(f\"🔥 New Best MAE: ${mae:.2f} using {subset}\")\n",
    "\n",
    "#         except Exception as e:\n",
    "#             print(f\"⚠️ Skipped {subset}: {e}\")\n",
    "#             continue\n",
    "\n",
    "# # Final output\n",
    "# print(f\"\\n✅ Best feature set: {best_features}\")\n",
    "# print(f\"📏 Best MAE: ${best_mae:.2f}\")\n"
   ]
  }
 ],
 "metadata": {
  "kernelspec": {
   "display_name": "venv",
   "language": "python",
   "name": "python3"
  },
  "language_info": {
   "codemirror_mode": {
    "name": "ipython",
    "version": 3
   },
   "file_extension": ".py",
   "mimetype": "text/x-python",
   "name": "python",
   "nbconvert_exporter": "python",
   "pygments_lexer": "ipython3",
   "version": "3.12.3"
  }
 },
 "nbformat": 4,
 "nbformat_minor": 2
}
